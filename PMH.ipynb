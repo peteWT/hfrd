{
 "metadata": {
  "name": "",
  "signature": "sha256:c9d3a5d88df670fd0f41e8eeeb123a6d44bc90ca17142f6affd1e19b5813b5ff"
 },
 "nbformat": 3,
 "nbformat_minor": 0,
 "worksheets": [
  {
   "cells": [
    {
     "cell_type": "code",
     "collapsed": false,
     "input": [
      "import util as ut"
     ],
     "language": "python",
     "metadata": {},
     "outputs": [],
     "prompt_number": 2
    },
    {
     "cell_type": "code",
     "collapsed": false,
     "input": [
      "costData =ut.gData('1TsHo2wyvzKYugiDudPHFJjtFS--5ZBcWNb2gGopteX4',1475511425)"
     ],
     "language": "python",
     "metadata": {},
     "outputs": [],
     "prompt_number": 4
    },
    {
     "cell_type": "markdown",
     "metadata": {},
     "source": [
      "## Depreciation\n",
      "Three depreciation methods are available\n",
      "\n",
      "### Strait-line method"
     ]
    },
    {
     "cell_type": "code",
     "collapsed": false,
     "input": [
      "class Depreciation(object):\n",
      "    \n",
      "    def dep_sr(p=85000,s=17000,n=5):\n",
      "        return (p-s)/n"
     ],
     "language": "python",
     "metadata": {},
     "outputs": [],
     "prompt_number": 7
    },
    {
     "cell_type": "markdown",
     "metadata": {},
     "source": [
      "### Declining balance method"
     ]
    },
    {
     "cell_type": "code",
     "collapsed": false,
     "input": [
      "Depreciation.dep_sr()"
     ],
     "language": "python",
     "metadata": {},
     "outputs": [
      {
       "ename": "TypeError",
       "evalue": "unbound method dep_sr() must be called with Depreciation instance as first argument (got nothing instead)",
       "output_type": "pyerr",
       "traceback": [
        "\u001b[0;31m---------------------------------------------------------------------------\u001b[0m\n\u001b[0;31mTypeError\u001b[0m                                 Traceback (most recent call last)",
        "\u001b[0;32m<ipython-input-8-5c8822f1e1e6>\u001b[0m in \u001b[0;36m<module>\u001b[0;34m()\u001b[0m\n\u001b[0;32m----> 1\u001b[0;31m \u001b[0mDepreciation\u001b[0m\u001b[0;34m.\u001b[0m\u001b[0mdep_sr\u001b[0m\u001b[0;34m(\u001b[0m\u001b[0;34m)\u001b[0m\u001b[0;34m\u001b[0m\u001b[0m\n\u001b[0m",
        "\u001b[0;31mTypeError\u001b[0m: unbound method dep_sr() must be called with Depreciation instance as first argument (got nothing instead)"
       ]
      }
     ],
     "prompt_number": 8
    },
    {
     "cell_type": "code",
     "collapsed": false,
     "input": [],
     "language": "python",
     "metadata": {},
     "outputs": []
    }
   ],
   "metadata": {}
  }
 ]
}